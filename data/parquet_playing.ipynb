{
 "cells": [
  {
   "cell_type": "code",
   "execution_count": 1,
   "id": "01a35538",
   "metadata": {},
   "outputs": [],
   "source": [
    "import pyarrow.parquet as pq\n",
    "import pandas as pd\n",
    "import numpy as np\n",
    "import matplotlib.pyplot as plt"
   ]
  },
  {
   "cell_type": "code",
   "execution_count": 2,
   "id": "aa56e753",
   "metadata": {},
   "outputs": [],
   "source": [
    "table2 = pq.read_table('market_data.parquet')\n",
    "\n",
    "\n"
   ]
  },
  {
   "cell_type": "code",
   "execution_count": 3,
   "id": "dcb2f4a8",
   "metadata": {},
   "outputs": [
    {
     "data": {
      "text/plain": [
       "(1434082, 4)"
      ]
     },
     "execution_count": 3,
     "metadata": {},
     "output_type": "execute_result"
    }
   ],
   "source": [
    "table = table2.to_pandas()\n",
    "table.shape"
   ]
  },
  {
   "cell_type": "code",
   "execution_count": 4,
   "id": "869dada7",
   "metadata": {},
   "outputs": [],
   "source": [
    "# Flatten column names if they are multi-level\n",
    "# Reset the index to include 'date' and 'id' as regular columns\n",
    "table = table.reset_index()\n"
   ]
  },
  {
   "cell_type": "code",
   "execution_count": 5,
   "id": "0c3b136b",
   "metadata": {},
   "outputs": [
    {
     "data": {
      "text/html": [
       "<div>\n",
       "<style scoped>\n",
       "    .dataframe tbody tr th:only-of-type {\n",
       "        vertical-align: middle;\n",
       "    }\n",
       "\n",
       "    .dataframe tbody tr th {\n",
       "        vertical-align: top;\n",
       "    }\n",
       "\n",
       "    .dataframe thead th {\n",
       "        text-align: right;\n",
       "    }\n",
       "</style>\n",
       "<table border=\"1\" class=\"dataframe\">\n",
       "  <thead>\n",
       "    <tr style=\"text-align: right;\">\n",
       "      <th></th>\n",
       "      <th>date</th>\n",
       "      <th>id</th>\n",
       "      <th>price</th>\n",
       "      <th>mktcap</th>\n",
       "      <th>liquidity</th>\n",
       "      <th>sector</th>\n",
       "    </tr>\n",
       "  </thead>\n",
       "  <tbody>\n",
       "    <tr>\n",
       "      <th>0</th>\n",
       "      <td>1999-05-06</td>\n",
       "      <td>1</td>\n",
       "      <td>461.0</td>\n",
       "      <td>1.235952e+09</td>\n",
       "      <td>129080.0</td>\n",
       "      <td>None</td>\n",
       "    </tr>\n",
       "    <tr>\n",
       "      <th>1</th>\n",
       "      <td>1999-05-07</td>\n",
       "      <td>1</td>\n",
       "      <td>455.0</td>\n",
       "      <td>1.219866e+09</td>\n",
       "      <td>4550.0</td>\n",
       "      <td>None</td>\n",
       "    </tr>\n",
       "    <tr>\n",
       "      <th>2</th>\n",
       "      <td>1999-05-10</td>\n",
       "      <td>1</td>\n",
       "      <td>455.0</td>\n",
       "      <td>1.219866e+09</td>\n",
       "      <td>910.0</td>\n",
       "      <td>None</td>\n",
       "    </tr>\n",
       "    <tr>\n",
       "      <th>3</th>\n",
       "      <td>1999-05-11</td>\n",
       "      <td>1</td>\n",
       "      <td>460.0</td>\n",
       "      <td>1.233271e+09</td>\n",
       "      <td>4600.0</td>\n",
       "      <td>None</td>\n",
       "    </tr>\n",
       "    <tr>\n",
       "      <th>4</th>\n",
       "      <td>1999-05-12</td>\n",
       "      <td>1</td>\n",
       "      <td>460.0</td>\n",
       "      <td>1.233271e+09</td>\n",
       "      <td>460.0</td>\n",
       "      <td>None</td>\n",
       "    </tr>\n",
       "    <tr>\n",
       "      <th>5</th>\n",
       "      <td>1999-05-14</td>\n",
       "      <td>1</td>\n",
       "      <td>460.0</td>\n",
       "      <td>1.233271e+09</td>\n",
       "      <td>4600.0</td>\n",
       "      <td>None</td>\n",
       "    </tr>\n",
       "    <tr>\n",
       "      <th>6</th>\n",
       "      <td>1999-05-19</td>\n",
       "      <td>1</td>\n",
       "      <td>460.0</td>\n",
       "      <td>1.233271e+09</td>\n",
       "      <td>2300.0</td>\n",
       "      <td>None</td>\n",
       "    </tr>\n",
       "    <tr>\n",
       "      <th>7</th>\n",
       "      <td>1999-05-21</td>\n",
       "      <td>1</td>\n",
       "      <td>460.0</td>\n",
       "      <td>1.233271e+09</td>\n",
       "      <td>4600.0</td>\n",
       "      <td>None</td>\n",
       "    </tr>\n",
       "    <tr>\n",
       "      <th>8</th>\n",
       "      <td>1999-05-26</td>\n",
       "      <td>1</td>\n",
       "      <td>460.0</td>\n",
       "      <td>1.233271e+09</td>\n",
       "      <td>13800.0</td>\n",
       "      <td>None</td>\n",
       "    </tr>\n",
       "    <tr>\n",
       "      <th>9</th>\n",
       "      <td>1999-05-31</td>\n",
       "      <td>1</td>\n",
       "      <td>463.0</td>\n",
       "      <td>1.241314e+09</td>\n",
       "      <td>13890.0</td>\n",
       "      <td>None</td>\n",
       "    </tr>\n",
       "  </tbody>\n",
       "</table>\n",
       "</div>"
      ],
      "text/plain": [
       "        date id  price        mktcap  liquidity sector\n",
       "0 1999-05-06  1  461.0  1.235952e+09   129080.0   None\n",
       "1 1999-05-07  1  455.0  1.219866e+09     4550.0   None\n",
       "2 1999-05-10  1  455.0  1.219866e+09      910.0   None\n",
       "3 1999-05-11  1  460.0  1.233271e+09     4600.0   None\n",
       "4 1999-05-12  1  460.0  1.233271e+09      460.0   None\n",
       "5 1999-05-14  1  460.0  1.233271e+09     4600.0   None\n",
       "6 1999-05-19  1  460.0  1.233271e+09     2300.0   None\n",
       "7 1999-05-21  1  460.0  1.233271e+09     4600.0   None\n",
       "8 1999-05-26  1  460.0  1.233271e+09    13800.0   None\n",
       "9 1999-05-31  1  463.0  1.241314e+09    13890.0   None"
      ]
     },
     "execution_count": 5,
     "metadata": {},
     "output_type": "execute_result"
    }
   ],
   "source": [
    "table.head(10)"
   ]
  },
  {
   "cell_type": "code",
   "execution_count": 6,
   "id": "c35fc8b5",
   "metadata": {},
   "outputs": [
    {
     "data": {
      "text/plain": [
       "date               0\n",
       "id             43449\n",
       "price              0\n",
       "mktcap             0\n",
       "liquidity     105235\n",
       "sector       1431763\n",
       "dtype: int64"
      ]
     },
     "execution_count": 6,
     "metadata": {},
     "output_type": "execute_result"
    }
   ],
   "source": [
    "# Check the number of NA values in the entire DataFrame\n",
    "na_count = table.isna().sum()\n",
    "\n",
    "# Display the count of NA values for each column\n",
    "na_count"
   ]
  },
  {
   "cell_type": "code",
   "execution_count": 7,
   "id": "22ba87bd",
   "metadata": {},
   "outputs": [],
   "source": [
    "# Save the DataFrame to a CSV file\n",
    "# table.to_csv('market_data.csv', index=False)"
   ]
  },
  {
   "cell_type": "code",
   "execution_count": 8,
   "id": "e036dd3b",
   "metadata": {},
   "outputs": [
    {
     "name": "stdout",
     "output_type": "stream",
     "text": [
      "Index(['date', 'id', 'price', 'mktcap', 'liquidity', 'sector'], dtype='object')\n"
     ]
    }
   ],
   "source": [
    "# Check the columns in the DataFrame\n",
    "print(table.columns)"
   ]
  },
  {
   "cell_type": "code",
   "execution_count": 9,
   "id": "0eb1783a",
   "metadata": {},
   "outputs": [
    {
     "name": "stdout",
     "output_type": "stream",
     "text": [
      "price: double\n",
      "mktcap: double\n",
      "liquidity: double\n",
      "sector: string\n",
      "date: timestamp[ns]\n",
      "id: string\n",
      "-- schema metadata --\n",
      "pandas: '{\"index_columns\": [\"date\", \"id\"], \"column_indexes\": [{\"name\": nu' + 882\n"
     ]
    }
   ],
   "source": [
    "# Print the schema of the Parquet file to check for missing fields\n",
    "print(table2.schema)"
   ]
  },
  {
   "cell_type": "code",
   "execution_count": 10,
   "id": "244e0748",
   "metadata": {},
   "outputs": [
    {
     "name": "stderr",
     "output_type": "stream",
     "text": [
      "C:\\Users\\IAB\\AppData\\Local\\Temp\\ipykernel_28228\\3948143511.py:12: FutureWarning: A value is trying to be set on a copy of a DataFrame or Series through chained assignment using an inplace method.\n",
      "The behavior will change in pandas 3.0. This inplace method will never work because the intermediate object on which we are setting values always behaves as a copy.\n",
      "\n",
      "For example, when doing 'df[col].method(value, inplace=True)', try using 'df.method({col: value}, inplace=True)' or df[col] = df[col].method(value) instead, to perform the operation inplace on the original object.\n",
      "\n",
      "\n",
      "  df['liquidity'].fillna(0, inplace=True)\n"
     ]
    }
   ],
   "source": [
    "# Filter the DataFrame for rows where 'id' equals 1\n",
    "df = table[table['id'] == '2']  # Ensure 'id' is treated as a string if necessary\n",
    "df = df.drop(columns=['sector'])\n",
    "\n",
    "# 1) rolling‐5 mean\n",
    "roll5 = df['liquidity'].rolling(window=5, min_periods=1).mean()\n",
    "\n",
    "# 2) fill NaNs with the rolling mean\n",
    "df['liquidity'] = df['liquidity'].fillna(roll5)\n",
    "\n",
    "# 3) for any still‐NaN at the top, backfill from the first real value\n",
    "df['liquidity'].fillna(0, inplace=True)\n",
    "\n",
    "# df.to_csv('test_1_imputed.csv', index=False)\n"
   ]
  },
  {
   "cell_type": "code",
   "execution_count": 11,
   "id": "eea7f591",
   "metadata": {},
   "outputs": [
    {
     "data": {
      "text/plain": [
       "(7734, 5)"
      ]
     },
     "execution_count": 11,
     "metadata": {},
     "output_type": "execute_result"
    }
   ],
   "source": [
    "df.shape"
   ]
  },
  {
   "cell_type": "code",
   "execution_count": null,
   "id": "03ce67d2",
   "metadata": {},
   "outputs": [],
   "source": []
  },
  {
   "cell_type": "code",
   "execution_count": 12,
   "id": "27652369",
   "metadata": {},
   "outputs": [
    {
     "data": {
      "text/html": [
       "<div>\n",
       "<style scoped>\n",
       "    .dataframe tbody tr th:only-of-type {\n",
       "        vertical-align: middle;\n",
       "    }\n",
       "\n",
       "    .dataframe tbody tr th {\n",
       "        vertical-align: top;\n",
       "    }\n",
       "\n",
       "    .dataframe thead th {\n",
       "        text-align: right;\n",
       "    }\n",
       "</style>\n",
       "<table border=\"1\" class=\"dataframe\">\n",
       "  <thead>\n",
       "    <tr style=\"text-align: right;\">\n",
       "      <th></th>\n",
       "      <th>date</th>\n",
       "      <th>id</th>\n",
       "      <th>price</th>\n",
       "      <th>mktcap</th>\n",
       "      <th>liquidity</th>\n",
       "    </tr>\n",
       "  </thead>\n",
       "  <tbody>\n",
       "    <tr>\n",
       "      <th>1863</th>\n",
       "      <td>1990-01-30</td>\n",
       "      <td>2</td>\n",
       "      <td>36.961449</td>\n",
       "      <td>765000000.0</td>\n",
       "      <td>0.0</td>\n",
       "    </tr>\n",
       "    <tr>\n",
       "      <th>1864</th>\n",
       "      <td>1990-01-31</td>\n",
       "      <td>2</td>\n",
       "      <td>36.526608</td>\n",
       "      <td>756000000.0</td>\n",
       "      <td>0.0</td>\n",
       "    </tr>\n",
       "    <tr>\n",
       "      <th>1865</th>\n",
       "      <td>1990-02-14</td>\n",
       "      <td>2</td>\n",
       "      <td>36.526608</td>\n",
       "      <td>756000000.0</td>\n",
       "      <td>0.0</td>\n",
       "    </tr>\n",
       "    <tr>\n",
       "      <th>1866</th>\n",
       "      <td>1990-02-15</td>\n",
       "      <td>2</td>\n",
       "      <td>36.526608</td>\n",
       "      <td>756000000.0</td>\n",
       "      <td>0.0</td>\n",
       "    </tr>\n",
       "    <tr>\n",
       "      <th>1867</th>\n",
       "      <td>1990-02-16</td>\n",
       "      <td>2</td>\n",
       "      <td>37.178869</td>\n",
       "      <td>769500000.0</td>\n",
       "      <td>0.0</td>\n",
       "    </tr>\n",
       "    <tr>\n",
       "      <th>1868</th>\n",
       "      <td>1990-02-22</td>\n",
       "      <td>2</td>\n",
       "      <td>36.961449</td>\n",
       "      <td>765000000.0</td>\n",
       "      <td>0.0</td>\n",
       "    </tr>\n",
       "    <tr>\n",
       "      <th>1869</th>\n",
       "      <td>1990-02-26</td>\n",
       "      <td>2</td>\n",
       "      <td>36.526608</td>\n",
       "      <td>756000000.0</td>\n",
       "      <td>0.0</td>\n",
       "    </tr>\n",
       "    <tr>\n",
       "      <th>1870</th>\n",
       "      <td>1990-02-27</td>\n",
       "      <td>2</td>\n",
       "      <td>36.961449</td>\n",
       "      <td>765000000.0</td>\n",
       "      <td>0.0</td>\n",
       "    </tr>\n",
       "    <tr>\n",
       "      <th>1871</th>\n",
       "      <td>1990-03-07</td>\n",
       "      <td>2</td>\n",
       "      <td>36.526608</td>\n",
       "      <td>756000000.0</td>\n",
       "      <td>0.0</td>\n",
       "    </tr>\n",
       "    <tr>\n",
       "      <th>1872</th>\n",
       "      <td>1990-03-12</td>\n",
       "      <td>2</td>\n",
       "      <td>36.091767</td>\n",
       "      <td>747000000.0</td>\n",
       "      <td>0.0</td>\n",
       "    </tr>\n",
       "  </tbody>\n",
       "</table>\n",
       "</div>"
      ],
      "text/plain": [
       "           date id      price       mktcap  liquidity\n",
       "1863 1990-01-30  2  36.961449  765000000.0        0.0\n",
       "1864 1990-01-31  2  36.526608  756000000.0        0.0\n",
       "1865 1990-02-14  2  36.526608  756000000.0        0.0\n",
       "1866 1990-02-15  2  36.526608  756000000.0        0.0\n",
       "1867 1990-02-16  2  37.178869  769500000.0        0.0\n",
       "1868 1990-02-22  2  36.961449  765000000.0        0.0\n",
       "1869 1990-02-26  2  36.526608  756000000.0        0.0\n",
       "1870 1990-02-27  2  36.961449  765000000.0        0.0\n",
       "1871 1990-03-07  2  36.526608  756000000.0        0.0\n",
       "1872 1990-03-12  2  36.091767  747000000.0        0.0"
      ]
     },
     "execution_count": 12,
     "metadata": {},
     "output_type": "execute_result"
    }
   ],
   "source": [
    "df.head(10)\n"
   ]
  },
  {
   "cell_type": "code",
   "execution_count": null,
   "id": "b39380b2",
   "metadata": {},
   "outputs": [
    {
     "name": "stdout",
     "output_type": "stream",
     "text": [
      "\n",
      "Filtered DataFrame for modeling:\n",
      "           date id      price       mktcap     ema_20     ema_50  \\\n",
      "1876 1990-04-02  2  36.309151  780267180.0  36.581383  36.766945   \n",
      "1877 1990-04-05  2  36.309151  780267180.0  36.555456  36.748992   \n",
      "1878 1990-04-24  2  36.780699  790400520.0  36.576908  36.750236   \n",
      "1879 1990-04-25  2  36.309151  780267180.0  36.551407  36.732938   \n",
      "1880 1990-05-03  2  36.780699  790400520.0  36.573244  36.734811   \n",
      "1881 1990-05-17  2  36.309151  780267180.0  36.548093  36.718119   \n",
      "1882 1990-06-06  2  36.780699  790400520.0  36.570246  36.720573   \n",
      "1883 1990-06-07  2  36.309151  780267180.0  36.545380  36.704439   \n",
      "1884 1990-06-08  2  36.073378  775200510.0  36.500427  36.679691   \n",
      "1885 1990-06-13  2  36.309151  780267180.0  36.482210  36.665160   \n",
      "\n",
      "      realized_vol_14d  valid_for_model  \n",
      "1876          0.366447             True  \n",
      "1877          0.350138             True  \n",
      "1878          0.358361             True  \n",
      "1879          0.362447             True  \n",
      "1880          0.370259             True  \n",
      "1881          0.320107             True  \n",
      "1882          0.301158             True  \n",
      "1883          0.302025             True  \n",
      "1884          0.272693             True  \n",
      "1885          0.268780             True  \n",
      "\n",
      "Original data: 7734 rows\n",
      "Modeling data: 7721 rows\n"
     ]
    }
   ],
   "source": [
    "import pandas as pd\n",
    "import numpy as np\n",
    "\n",
    "# Calculate 20-day EMA\n",
    "df['ema_20'] = df['price'].ewm(span=20, adjust=False).mean()\n",
    "\n",
    "# Calculate 50-day EMA\n",
    "df['ema_50'] = df['price'].ewm(span=50, adjust=False).mean()\n",
    "\n",
    "# Calculate 14-day rolling standard deviation (realized volatility)\n",
    "df['realized_vol_14d'] = df['price'].rolling(window=14).std()\n",
    "\n",
    "# Handle edge cases:\n",
    "# For model training, you may want to:\n",
    "# 1. Drop rows with NaN values\n",
    "df_model = df.dropna()\n",
    "\n",
    "# Or 2. Forward fill missing values (not recommended for the beginning of the series)\n",
    "# df_model = df.fillna(method='ffill')\n",
    "\n",
    "# Or 3. Drop specific columns where necessary\n",
    "# First 13 days will have NaN for realized_vol_14d\n",
    "# First 19 days will have less reliable ema_20\n",
    "# First 49 days will have less reliable ema_50\n",
    "\n",
    "# Create a boolean mask for rows we want to keep for the model\n",
    "valid_data_mask = (~df['realized_vol_14d'].isna()) & (df.index >= 49)\n",
    "df_model = df[valid_data_mask].copy()\n",
    "\n",
    "# Drop the 'liquidity' column from df_model\n",
    "df_model = df_model.drop(columns=['liquidity'])\n",
    "\n",
    "# Print the first few rows of the original dataframe to see the NaN pattern\n",
    "# print(\"Original DataFrame with new columns:\")\n",
    "# print(df.head(60))\n",
    "\n",
    "# Print the first few rows of the filtered dataframe for modeling\n",
    "print(\"\\nFiltered DataFrame for modeling:\")\n",
    "print(df_model.head(10))\n",
    "\n",
    "print(f\"\\nOriginal data: {len(df)} rows\")\n",
    "print(f\"Modeling data: {len(df_model)} rows\")"
   ]
  },
  {
   "cell_type": "code",
   "execution_count": 16,
   "id": "59dbe05d",
   "metadata": {},
   "outputs": [],
   "source": [
    "df_model.to_csv('test_v2.csv', index=False)"
   ]
  }
 ],
 "metadata": {
  "kernelspec": {
   "display_name": ".venv",
   "language": "python",
   "name": "python3"
  },
  "language_info": {
   "codemirror_mode": {
    "name": "ipython",
    "version": 3
   },
   "file_extension": ".py",
   "mimetype": "text/x-python",
   "name": "python",
   "nbconvert_exporter": "python",
   "pygments_lexer": "ipython3",
   "version": "3.13.2"
  }
 },
 "nbformat": 4,
 "nbformat_minor": 5
}
