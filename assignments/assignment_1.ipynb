{
 "cells": [
  {
   "cell_type": "markdown",
   "metadata": {},
   "source": [
    "# Assignment 1\n",
    "\n",
    "Deadline: 19.03.2025, 12:00 CET\n",
    "\n",
    "<Ishaan Bhondele, 23-745-862 and emal address>"
   ]
  },
  {
   "cell_type": "code",
   "execution_count": 2,
   "metadata": {},
   "outputs": [],
   "source": [
    "# Import standard libraries\n",
    "import os\n",
    "import sys\n",
    "import timeit # To compute runtimes\n",
    "from typing import Optional\n",
    "\n",
    "# Import third-party libraries\n",
    "import numpy as np\n",
    "import pandas as pd\n",
    "import matplotlib.pyplot as plt\n",
    "\n",
    "# Import local modules\n",
    "project_root = os.path.dirname(os.path.dirname(os.getcwd()))   # Change this path if needed\n",
    "src_path = os.path.join(project_root, 'qpmwp-course\\\\src')\n",
    "sys.path.append(project_root)\n",
    "sys.path.append(src_path)\n",
    "from estimation.covariance import Covariance\n",
    "from estimation.expected_return import ExpectedReturn\n",
    "from optimization.constraints import Constraints\n",
    "from optimization.optimization import Optimization, Objective\n",
    "from optimization.optimization_data import OptimizationData\n",
    "from optimization.quadratic_program import QuadraticProgram, USABLE_SOLVERS"
   ]
  },
  {
   "cell_type": "markdown",
   "metadata": {},
   "source": [
    "## 1. Solver Horse Race\n",
    "\n",
    "### 1.a)\n",
    "(3 points)\n",
    "\n",
    "Generate a Multivariate-Normal random dataset of dimension TxN, T=1000, N=100, and compute a vector of expected returns, q, and a covariance matrix, P, using classes ExpectedReturn and Covariance respectively."
   ]
  },
  {
   "cell_type": "code",
   "execution_count": 12,
   "metadata": {},
   "outputs": [
    {
     "name": "stdout",
     "output_type": "stream",
     "text": [
      "Vector of expected returns (q):\n",
      "Asset_1      2.777558\n",
      "Asset_2      2.329994\n",
      "Asset_3      2.915305\n",
      "Asset_4      2.829719\n",
      "Asset_5      2.589311\n",
      "               ...   \n",
      "Asset_96     2.341384\n",
      "Asset_97     2.477544\n",
      "Asset_98     2.850532\n",
      "Asset_99     2.750184\n",
      "Asset_100    2.431605\n",
      "Length: 100, dtype: float64\n",
      "\n",
      "Covariance matrix (P):\n",
      "             Asset_1    Asset_2    Asset_3    Asset_4    Asset_5    Asset_6  \\\n",
      "Asset_1    36.518327  24.020607  26.011403  24.334433  24.303544  21.991360   \n",
      "Asset_2    24.020607  33.144129  25.764270  23.638660  26.107059  22.370053   \n",
      "Asset_3    26.011403  25.764270  36.154073  25.715061  26.186684  22.253324   \n",
      "Asset_4    24.334433  23.638660  25.715061  31.753181  25.641839  20.716205   \n",
      "Asset_5    24.303544  26.107059  26.186684  25.641839  35.110772  22.436245   \n",
      "...              ...        ...        ...        ...        ...        ...   \n",
      "Asset_96   25.362066  23.546731  24.528489  23.263203  22.647548  18.873752   \n",
      "Asset_97   24.685864  26.627312  26.721754  24.198934  25.205826  21.315296   \n",
      "Asset_98   24.518410  26.043943  26.383602  26.080667  26.437988  22.952593   \n",
      "Asset_99   27.759054  25.161196  26.307009  26.320032  24.358488  21.484506   \n",
      "Asset_100  24.048550  23.071812  26.115910  24.210451  24.530440  19.744738   \n",
      "\n",
      "             Asset_7    Asset_8    Asset_9   Asset_10  ...   Asset_91  \\\n",
      "Asset_1    24.012401  26.520138  25.463828  24.465789  ...  25.380068   \n",
      "Asset_2    22.711965  26.530095  26.052040  24.669015  ...  24.844642   \n",
      "Asset_3    26.375676  26.674121  25.746967  25.372296  ...  25.387521   \n",
      "Asset_4    23.081189  24.654048  24.680529  24.434797  ...  24.987025   \n",
      "Asset_5    23.737931  27.666585  23.508849  26.073105  ...  26.752236   \n",
      "...              ...        ...        ...        ...  ...        ...   \n",
      "Asset_96   22.982519  24.606366  23.720418  23.559382  ...  23.884694   \n",
      "Asset_97   21.978581  25.811371  26.184917  25.718740  ...  26.294526   \n",
      "Asset_98   22.912095  26.066959  24.852392  26.323927  ...  25.898907   \n",
      "Asset_99   24.188775  26.074052  23.765602  24.736438  ...  24.799503   \n",
      "Asset_100  24.653987  24.806603  21.889338  23.319617  ...  24.439527   \n",
      "\n",
      "            Asset_92   Asset_93   Asset_94   Asset_95   Asset_96   Asset_97  \\\n",
      "Asset_1    29.231464  24.208867  23.482215  25.067634  25.362066  24.685864   \n",
      "Asset_2    28.246529  26.174992  24.284575  24.205821  23.546731  26.627312   \n",
      "Asset_3    29.425897  26.034346  26.155342  23.702034  24.528489  26.721754   \n",
      "Asset_4    27.009796  24.549188  26.209443  25.514560  23.263203  24.198934   \n",
      "Asset_5    29.267696  25.705937  26.136902  25.800085  22.647548  25.205826   \n",
      "...              ...        ...        ...        ...        ...        ...   \n",
      "Asset_96   26.789192  24.700597  24.643660  22.359922  31.539007  23.099893   \n",
      "Asset_97   27.239594  26.002595  24.887276  24.164873  23.099893  33.637758   \n",
      "Asset_98   27.464351  25.363438  25.882651  25.657418  23.661335  25.266857   \n",
      "Asset_99   27.166992  24.707994  26.495557  25.388165  26.276434  25.995361   \n",
      "Asset_100  27.252909  26.237376  24.905422  21.311611  22.913291  24.211543   \n",
      "\n",
      "            Asset_98   Asset_99  Asset_100  \n",
      "Asset_1    24.518410  27.759054  24.048550  \n",
      "Asset_2    26.043943  25.161196  23.071812  \n",
      "Asset_3    26.383602  26.307009  26.115910  \n",
      "Asset_4    26.080667  26.320032  24.210451  \n",
      "Asset_5    26.437988  24.358488  24.530440  \n",
      "...              ...        ...        ...  \n",
      "Asset_96   23.661335  26.276434  22.913291  \n",
      "Asset_97   25.266857  25.995361  24.211543  \n",
      "Asset_98   35.287081  24.305095  24.606113  \n",
      "Asset_99   24.305095  35.572624  23.839843  \n",
      "Asset_100  24.606113  23.839843  31.112180  \n",
      "\n",
      "[100 rows x 100 columns]\n"
     ]
    },
    {
     "name": "stderr",
     "output_type": "stream",
     "text": [
      "c:\\Users\\IAB\\OneDrive\\CODE\\QPMP\\Assignment_1\\qpmwp-course\\.venv\\Lib\\site-packages\\pandas\\core\\internals\\blocks.py:393: RuntimeWarning: invalid value encountered in log\n",
      "  result = func(self.values, **kwargs)\n"
     ]
    }
   ],
   "source": [
    "\n",
    "# Set the dimensions\n",
    "T = 1000  # Number of time periods\n",
    "N = 100   # Number of assets\n",
    "\n",
    "# Generate a random mean vector and covariance matrix for the multivariate normal distribution\n",
    "mean = np.random.rand(N)\n",
    "A = np.random.rand(N, N)\n",
    "cov = np.dot(A, A.T) #ensure PSD\n",
    "\n",
    "# Generate the Multivariate-Normal random dataset\n",
    "data = np.random.multivariate_normal(mean, cov, T)\n",
    "\n",
    "# Convert the dataset to a DataFrame for easier manipulation\n",
    "df = pd.DataFrame(data, columns=[f'Asset_{i+1}' for i in range(N)])\n",
    "\n",
    "# Compute the vector of expected returns (mean returns) from df\n",
    "expected_return = ExpectedReturn()\n",
    "expected_return.estimate(X=df)\n",
    "q = expected_return.vector\n",
    "# Compute the covariance matrix from df\n",
    "covariance = Covariance()\n",
    "covariance.estimate(X=df)\n",
    "\n",
    "P = covariance.matrix\n",
    "\n",
    "# Display the results\n",
    "print(\"Vector of expected returns (q):\")\n",
    "print(q)\n",
    "\n",
    "print(\"\\nCovariance matrix (P):\")\n",
    "print(P)"
   ]
  },
  {
   "cell_type": "markdown",
   "metadata": {},
   "source": [
    "### 1.b)\n",
    "(3 points)\n",
    "\n",
    "Instantiate a constraints object by injecting column names of the data created in 1.a) as ids and add:\n",
    "- a budget constaint (i.e., asset weights have to sum to one)\n",
    "- lower bounds of 0.0 for all assets\n",
    "- upper bounds of 0.2 for all assets\n",
    "- group contraints such that the sum of the weights of the first 30 assets is <= 0.3, the sum of assets 31 to 60 is <= 0.4 and the sum of assets 61 to 100 is <= 0.5"
   ]
  },
  {
   "cell_type": "markdown",
   "metadata": {},
   "source": []
  },
  {
   "cell_type": "code",
   "execution_count": null,
   "metadata": {},
   "outputs": [
    {
     "ename": "AttributeError",
     "evalue": "'Constraints' object has no attribute 'head'",
     "output_type": "error",
     "traceback": [
      "\u001b[1;31m---------------------------------------------------------------------------\u001b[0m",
      "\u001b[1;31mAttributeError\u001b[0m                            Traceback (most recent call last)",
      "Cell \u001b[1;32mIn[7], line 4\u001b[0m\n\u001b[0;32m      1\u001b[0m \u001b[38;5;66;03m# Instantiate the Constraints class\u001b[39;00m\n\u001b[0;32m      2\u001b[0m constraints \u001b[38;5;241m=\u001b[39m Constraints(ids \u001b[38;5;241m=\u001b[39m df\u001b[38;5;241m.\u001b[39mcolumns\u001b[38;5;241m.\u001b[39mtolist())\n\u001b[1;32m----> 4\u001b[0m \u001b[43mconstraints\u001b[49m\u001b[38;5;241;43m.\u001b[39;49m\u001b[43mhead\u001b[49m()\n\u001b[0;32m      6\u001b[0m \u001b[38;5;66;03m# Add budget constraint\u001b[39;00m\n\u001b[0;32m      7\u001b[0m \u001b[38;5;66;03m#<your code here>\u001b[39;00m\n\u001b[0;32m      8\u001b[0m \n\u001b[1;32m   (...)\u001b[0m\n\u001b[0;32m     12\u001b[0m \u001b[38;5;66;03m# Add linear constraints\u001b[39;00m\n\u001b[0;32m     13\u001b[0m \u001b[38;5;66;03m#<your code here>\u001b[39;00m\n",
      "\u001b[1;31mAttributeError\u001b[0m: 'Constraints' object has no attribute 'head'"
     ]
    }
   ],
   "source": [
    "# Instantiate the Constraints class\n",
    "constraints = Constraints(ids = df.columns.tolist())\n",
    "\n",
    "# Add budget constraint\n",
    "constraints.add_budget(rhs=1.0)\n",
    "\n",
    "# Add box constraints (i.e., lower and upper bounds)\n",
    "constraints.add_box(lower=0.0, upper=0.2)\n",
    "\n",
    "# Add linear constraints\n",
    "group1_ids = df.columns[:30]\n",
    "g1 = pd.Series(np.ones(len(group1_ids)), index=group1_ids)\n",
    "constraints.add_linear(g_values=g1, sense=\"<=\", rhs=0.3, name=\"group1\")\n",
    "\n",
    "# For the second group (assets 31 to 60)\n",
    "group2_ids = df.columns[30:60]\n",
    "g2 = pd.Series(np.ones(len(group2_ids)), index=group2_ids)\n",
    "constraints.add_linear(g_values=g2, sense=\"<=\", rhs=0.4, name=\"group2\")\n",
    "\n",
    "# For the third group (assets 61 to 100)\n",
    "group3_ids = df.columns[60:]\n",
    "g3 = pd.Series(np.ones(len(group3_ids)), index=group3_ids)\n",
    "constraints.add_linear(g_values=g3, sense=\"<=\", rhs=0.5, name=\"group3\")"
   ]
  },
  {
   "cell_type": "markdown",
   "metadata": {},
   "source": [
    "### 1.c) \n",
    "(4 points)\n",
    "\n",
    "Solve a Mean-Variance optimization problem (using coefficients P and q in the objective function) which satisfies the above defined constraints.\n",
    "Repeat the task for all open-source solvers in qpsolvers and compare the results in terms of:\n",
    "\n",
    "- runtime\n",
    "- accuracy: value of the primal problem.\n",
    "- reliability: are all constarints fulfilled? Extract primal resisduals, dual residuals and duality gap.\n",
    "\n",
    "Generate a DataFrame with the solvers as column names and the following row index: 'solution_found': bool, 'objective': float, 'primal_residual': float, 'dual_residual': float, 'duality_gap': float, 'runtime': float.\n",
    "\n",
    "Put NA's for solvers that failed for some reason (e.g., unable to install the package or solvers throws an error during execution). \n",
    "\n",
    "\n"
   ]
  },
  {
   "cell_type": "code",
   "execution_count": null,
   "metadata": {},
   "outputs": [],
   "source": [
    "# Extract the constraints in the format required by the solver\n",
    "GhAb = constraints.to_GhAb()\n",
    "\n",
    "# Loop over solvers, instantiate the quadratic program, solve it and store the results\n",
    "#<your code here>"
   ]
  },
  {
   "cell_type": "markdown",
   "metadata": {},
   "source": [
    "Print and visualize the results"
   ]
  },
  {
   "cell_type": "code",
   "execution_count": 5,
   "metadata": {},
   "outputs": [],
   "source": [
    "#<your code here>"
   ]
  },
  {
   "cell_type": "markdown",
   "metadata": {},
   "source": [
    "## 2. Analytical Solution to Minimum-Variance Problem\n",
    "\n",
    "(5 points)\n",
    "\n",
    "- Create a `MinVariance` class that follows the structure of the `MeanVariance` class.\n",
    "- Implement the `solve` method in `MinVariance` such that if `solver_name = 'analytical'`, the analytical solution is computed and stored within the object (if such a solution exists). If not, call the `solve` method from the parent class.\n",
    "- Create a `Constraints` object by injecting the same ids as in part 1.b) and add a budget constraint.\n",
    "- Instantiate a `MinVariance` object by setting `solver_name = 'analytical'` and passing instances of `Constraints` and `Covariance` as arguments.\n",
    "- Create an `OptimizationData` object that contains an element `return_series`, which consists of the synthetic data generated in part 1.a).\n",
    "- Solve the optimization problem using the created `MinVariance` object and compare the results to those obtained in part 1.c).\n"
   ]
  },
  {
   "cell_type": "code",
   "execution_count": null,
   "metadata": {},
   "outputs": [],
   "source": [
    "# Define class MinVariance\n",
    "class MinVariance(Optimization):\n",
    "\n",
    "    def __init__(self,\n",
    "                 constraints: Constraints,\n",
    "                 covariance: Optional[Covariance] = None,\n",
    "                 **kwargs):\n",
    "        super().__init__(\n",
    "            constraints=constraints,\n",
    "            **kwargs\n",
    "        )\n",
    "        self.covariance = Covariance() if covariance is None else covariance\n",
    "\n",
    "    def set_objective(self, optimization_data: OptimizationData) -> None:\n",
    "        #<your code here>\n",
    "\n",
    "    def solve(self) -> None:\n",
    "        if self.params.get('solver_name') == 'analytical':\n",
    "            #<your code here>\n",
    "            return None\n",
    "        else:\n",
    "            return super().solve()\n",
    "\n",
    "\n",
    "# Create a constraints object with just a budget constraint\n",
    "#<your code here>\n",
    "\n",
    "# Instantiate the MinVariance class\n",
    "#<your code here>\n",
    "\n",
    "# Prepare the optimization data and prepare the optimization problem\n",
    "#<your code here>\n",
    "\n",
    "# Solve the optimization problem and print the weights\n",
    "#<your code here>"
   ]
  }
 ],
 "metadata": {
  "kernelspec": {
   "display_name": ".venv",
   "language": "python",
   "name": "python3"
  },
  "language_info": {
   "codemirror_mode": {
    "name": "ipython",
    "version": 3
   },
   "file_extension": ".py",
   "mimetype": "text/x-python",
   "name": "python",
   "nbconvert_exporter": "python",
   "pygments_lexer": "ipython3",
   "version": "3.13.2"
  }
 },
 "nbformat": 4,
 "nbformat_minor": 2
}
